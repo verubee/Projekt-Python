{
 "cells": [
  {
   "cell_type": "code",
   "execution_count": 1,
   "metadata": {},
   "outputs": [],
   "source": [
    "import pandas as pd\n",
    "\n",
    "import re"
   ]
  },
  {
   "cell_type": "code",
   "execution_count": 2,
   "metadata": {},
   "outputs": [
    {
     "data": {
      "text/html": [
       "<div>\n",
       "<style scoped>\n",
       "    .dataframe tbody tr th:only-of-type {\n",
       "        vertical-align: middle;\n",
       "    }\n",
       "\n",
       "    .dataframe tbody tr th {\n",
       "        vertical-align: top;\n",
       "    }\n",
       "\n",
       "    .dataframe thead th {\n",
       "        text-align: right;\n",
       "    }\n",
       "</style>\n",
       "<table border=\"1\" class=\"dataframe\">\n",
       "  <thead>\n",
       "    <tr style=\"text-align: right;\">\n",
       "      <th></th>\n",
       "      <th>Name</th>\n",
       "      <th>Company</th>\n",
       "      <th>Location</th>\n",
       "      <th>Technologies</th>\n",
       "      <th>Salary Low</th>\n",
       "      <th>Salary High</th>\n",
       "      <th>Currency</th>\n",
       "    </tr>\n",
       "  </thead>\n",
       "  <tbody>\n",
       "    <tr>\n",
       "      <th>0</th>\n",
       "      <td>Mid SQL Data Analyst</td>\n",
       "      <td>Ośrodek Przetwarzania Informacji - Państwowy I...</td>\n",
       "      <td>Warszawa</td>\n",
       "      <td>Data  SQL  pandas  Python</td>\n",
       "      <td>8000.0</td>\n",
       "      <td>10000.0</td>\n",
       "      <td>PLN</td>\n",
       "    </tr>\n",
       "    <tr>\n",
       "      <th>1</th>\n",
       "      <td>Data Analyst</td>\n",
       "      <td>Ferrosan Medical Devices</td>\n",
       "      <td>Szczecin</td>\n",
       "      <td>Data  Python  Degree  Data science</td>\n",
       "      <td>14000.0</td>\n",
       "      <td>24000.0</td>\n",
       "      <td>PLN</td>\n",
       "    </tr>\n",
       "    <tr>\n",
       "      <th>2</th>\n",
       "      <td>Data Analyst</td>\n",
       "      <td>Volvo Group</td>\n",
       "      <td>Wrocław</td>\n",
       "      <td>Data  SQL  Azure  Power BI</td>\n",
       "      <td>12000.0</td>\n",
       "      <td>18000.0</td>\n",
       "      <td>PLN</td>\n",
       "    </tr>\n",
       "    <tr>\n",
       "      <th>3</th>\n",
       "      <td>QA/ Data Analyst</td>\n",
       "      <td>AVENGA</td>\n",
       "      <td>Wrocław</td>\n",
       "      <td>Testing  SQL  QlikView  PySpark</td>\n",
       "      <td>16800.0</td>\n",
       "      <td>20000.0</td>\n",
       "      <td>PLN</td>\n",
       "    </tr>\n",
       "    <tr>\n",
       "      <th>4</th>\n",
       "      <td>Data Analyst</td>\n",
       "      <td>Cognitum Services SA</td>\n",
       "      <td>Warszawa</td>\n",
       "      <td>Data  AWS  SQL  Data analysis</td>\n",
       "      <td>17000.0</td>\n",
       "      <td>23000.0</td>\n",
       "      <td>PLN</td>\n",
       "    </tr>\n",
       "  </tbody>\n",
       "</table>\n",
       "</div>"
      ],
      "text/plain": [
       "                     Name                                            Company  \\\n",
       "0   Mid SQL Data Analyst   Ośrodek Przetwarzania Informacji - Państwowy I...   \n",
       "1           Data Analyst                            Ferrosan Medical Devices   \n",
       "2           Data Analyst                                         Volvo Group   \n",
       "3       QA/ Data Analyst                                              AVENGA   \n",
       "4           Data Analyst                                Cognitum Services SA   \n",
       "\n",
       "   Location                        Technologies  Salary Low  Salary High  \\\n",
       "0  Warszawa           Data  SQL  pandas  Python      8000.0      10000.0   \n",
       "1  Szczecin  Data  Python  Degree  Data science     14000.0      24000.0   \n",
       "2   Wrocław          Data  SQL  Azure  Power BI     12000.0      18000.0   \n",
       "3   Wrocław     Testing  SQL  QlikView  PySpark     16800.0      20000.0   \n",
       "4  Warszawa       Data  AWS  SQL  Data analysis     17000.0      23000.0   \n",
       "\n",
       "  Currency  \n",
       "0      PLN  \n",
       "1      PLN  \n",
       "2      PLN  \n",
       "3      PLN  \n",
       "4      PLN  "
      ]
     },
     "execution_count": 2,
     "metadata": {},
     "output_type": "execute_result"
    }
   ],
   "source": [
    "data = pd.read_csv('./job_offer.csv', sep= \",\", decimal=\".\", encoding= \"UTF-8\")\n",
    "\n",
    "data.head()\n",
    "\n"
   ]
  },
  {
   "cell_type": "code",
   "execution_count": 3,
   "metadata": {},
   "outputs": [
    {
     "data": {
      "text/plain": [
       "array(['PLN'], dtype=object)"
      ]
     },
     "execution_count": 3,
     "metadata": {},
     "output_type": "execute_result"
    }
   ],
   "source": [
    "data_pln = data.query(\"Currency == 'PLN'\")\n",
    "\n",
    "data_pln['Currency'].unique()"
   ]
  },
  {
   "cell_type": "code",
   "execution_count": 4,
   "metadata": {},
   "outputs": [
    {
     "name": "stderr",
     "output_type": "stream",
     "text": [
      "/var/folders/ly/b4ncvmb902ggx_hbc9vc3qy40000gp/T/ipykernel_58312/1000614602.py:3: SettingWithCopyWarning: \n",
      "A value is trying to be set on a copy of a slice from a DataFrame.\n",
      "Try using .loc[row_indexer,col_indexer] = value instead\n",
      "\n",
      "See the caveats in the documentation: https://pandas.pydata.org/pandas-docs/stable/user_guide/indexing.html#returning-a-view-versus-a-copy\n",
      "  data_pln['Name'] = data_pln['Name'].apply(lambda x: x.lower())\n",
      "/var/folders/ly/b4ncvmb902ggx_hbc9vc3qy40000gp/T/ipykernel_58312/1000614602.py:4: SettingWithCopyWarning: \n",
      "A value is trying to be set on a copy of a slice from a DataFrame.\n",
      "Try using .loc[row_indexer,col_indexer] = value instead\n",
      "\n",
      "See the caveats in the documentation: https://pandas.pydata.org/pandas-docs/stable/user_guide/indexing.html#returning-a-view-versus-a-copy\n",
      "  data_pln['Location'] = data_pln['Location'].apply(lambda x: x.lower())\n"
     ]
    },
    {
     "data": {
      "text/html": [
       "<div>\n",
       "<style scoped>\n",
       "    .dataframe tbody tr th:only-of-type {\n",
       "        vertical-align: middle;\n",
       "    }\n",
       "\n",
       "    .dataframe tbody tr th {\n",
       "        vertical-align: top;\n",
       "    }\n",
       "\n",
       "    .dataframe thead th {\n",
       "        text-align: right;\n",
       "    }\n",
       "</style>\n",
       "<table border=\"1\" class=\"dataframe\">\n",
       "  <thead>\n",
       "    <tr style=\"text-align: right;\">\n",
       "      <th></th>\n",
       "      <th>Name</th>\n",
       "      <th>Company</th>\n",
       "      <th>Location</th>\n",
       "      <th>Technologies</th>\n",
       "      <th>Salary Low</th>\n",
       "      <th>Salary High</th>\n",
       "      <th>Currency</th>\n",
       "    </tr>\n",
       "  </thead>\n",
       "  <tbody>\n",
       "    <tr>\n",
       "      <th>0</th>\n",
       "      <td>mid sql data analyst</td>\n",
       "      <td>Ośrodek Przetwarzania Informacji - Państwowy I...</td>\n",
       "      <td>warszawa</td>\n",
       "      <td>Data  SQL  pandas  Python</td>\n",
       "      <td>8000.0</td>\n",
       "      <td>10000.0</td>\n",
       "      <td>PLN</td>\n",
       "    </tr>\n",
       "    <tr>\n",
       "      <th>1</th>\n",
       "      <td>data analyst</td>\n",
       "      <td>Ferrosan Medical Devices</td>\n",
       "      <td>szczecin</td>\n",
       "      <td>Data  Python  Degree  Data science</td>\n",
       "      <td>14000.0</td>\n",
       "      <td>24000.0</td>\n",
       "      <td>PLN</td>\n",
       "    </tr>\n",
       "    <tr>\n",
       "      <th>2</th>\n",
       "      <td>data analyst</td>\n",
       "      <td>Volvo Group</td>\n",
       "      <td>wrocław</td>\n",
       "      <td>Data  SQL  Azure  Power BI</td>\n",
       "      <td>12000.0</td>\n",
       "      <td>18000.0</td>\n",
       "      <td>PLN</td>\n",
       "    </tr>\n",
       "  </tbody>\n",
       "</table>\n",
       "</div>"
      ],
      "text/plain": [
       "                     Name                                            Company  \\\n",
       "0   mid sql data analyst   Ośrodek Przetwarzania Informacji - Państwowy I...   \n",
       "1           data analyst                            Ferrosan Medical Devices   \n",
       "2           data analyst                                         Volvo Group   \n",
       "\n",
       "   Location                        Technologies  Salary Low  Salary High  \\\n",
       "0  warszawa           Data  SQL  pandas  Python      8000.0      10000.0   \n",
       "1  szczecin  Data  Python  Degree  Data science     14000.0      24000.0   \n",
       "2   wrocław          Data  SQL  Azure  Power BI     12000.0      18000.0   \n",
       "\n",
       "  Currency  \n",
       "0      PLN  \n",
       "1      PLN  \n",
       "2      PLN  "
      ]
     },
     "execution_count": 4,
     "metadata": {},
     "output_type": "execute_result"
    }
   ],
   "source": [
    "# Změňte názvy nabídek práce a měst ( name a location_citysloupců) na malá písmena,\n",
    "# .lower() přepíše na malá písmena\n",
    "data_pln['Name'] = data_pln['Name'].apply(lambda x: x.lower())\n",
    "data_pln['Location'] = data_pln['Location'].apply(lambda x: x.lower())\n",
    "data_pln.head(3)"
   ]
  },
  {
   "cell_type": "code",
   "execution_count": 5,
   "metadata": {},
   "outputs": [
    {
     "name": "stderr",
     "output_type": "stream",
     "text": [
      "/var/folders/ly/b4ncvmb902ggx_hbc9vc3qy40000gp/T/ipykernel_58312/3401121976.py:2: SettingWithCopyWarning: \n",
      "A value is trying to be set on a copy of a slice from a DataFrame.\n",
      "Try using .loc[row_indexer,col_indexer] = value instead\n",
      "\n",
      "See the caveats in the documentation: https://pandas.pydata.org/pandas-docs/stable/user_guide/indexing.html#returning-a-view-versus-a-copy\n",
      "  data_pln['Salary_avg'] = (data_pln['Salary Low'] + data_pln['Salary High']) / 2\n"
     ]
    },
    {
     "data": {
      "text/html": [
       "<div>\n",
       "<style scoped>\n",
       "    .dataframe tbody tr th:only-of-type {\n",
       "        vertical-align: middle;\n",
       "    }\n",
       "\n",
       "    .dataframe tbody tr th {\n",
       "        vertical-align: top;\n",
       "    }\n",
       "\n",
       "    .dataframe thead th {\n",
       "        text-align: right;\n",
       "    }\n",
       "</style>\n",
       "<table border=\"1\" class=\"dataframe\">\n",
       "  <thead>\n",
       "    <tr style=\"text-align: right;\">\n",
       "      <th></th>\n",
       "      <th>Name</th>\n",
       "      <th>Company</th>\n",
       "      <th>Location</th>\n",
       "      <th>Technologies</th>\n",
       "      <th>Salary Low</th>\n",
       "      <th>Salary High</th>\n",
       "      <th>Currency</th>\n",
       "      <th>Salary_avg</th>\n",
       "    </tr>\n",
       "  </thead>\n",
       "  <tbody>\n",
       "    <tr>\n",
       "      <th>0</th>\n",
       "      <td>mid sql data analyst</td>\n",
       "      <td>Ośrodek Przetwarzania Informacji - Państwowy I...</td>\n",
       "      <td>warszawa</td>\n",
       "      <td>Data  SQL  pandas  Python</td>\n",
       "      <td>8000.0</td>\n",
       "      <td>10000.0</td>\n",
       "      <td>PLN</td>\n",
       "      <td>9000.0</td>\n",
       "    </tr>\n",
       "    <tr>\n",
       "      <th>1</th>\n",
       "      <td>data analyst</td>\n",
       "      <td>Ferrosan Medical Devices</td>\n",
       "      <td>szczecin</td>\n",
       "      <td>Data  Python  Degree  Data science</td>\n",
       "      <td>14000.0</td>\n",
       "      <td>24000.0</td>\n",
       "      <td>PLN</td>\n",
       "      <td>19000.0</td>\n",
       "    </tr>\n",
       "    <tr>\n",
       "      <th>2</th>\n",
       "      <td>data analyst</td>\n",
       "      <td>Volvo Group</td>\n",
       "      <td>wrocław</td>\n",
       "      <td>Data  SQL  Azure  Power BI</td>\n",
       "      <td>12000.0</td>\n",
       "      <td>18000.0</td>\n",
       "      <td>PLN</td>\n",
       "      <td>15000.0</td>\n",
       "    </tr>\n",
       "  </tbody>\n",
       "</table>\n",
       "</div>"
      ],
      "text/plain": [
       "                     Name                                            Company  \\\n",
       "0   mid sql data analyst   Ośrodek Przetwarzania Informacji - Państwowy I...   \n",
       "1           data analyst                            Ferrosan Medical Devices   \n",
       "2           data analyst                                         Volvo Group   \n",
       "\n",
       "   Location                        Technologies  Salary Low  Salary High  \\\n",
       "0  warszawa           Data  SQL  pandas  Python      8000.0      10000.0   \n",
       "1  szczecin  Data  Python  Degree  Data science     14000.0      24000.0   \n",
       "2   wrocław          Data  SQL  Azure  Power BI     12000.0      18000.0   \n",
       "\n",
       "  Currency  Salary_avg  \n",
       "0      PLN      9000.0  \n",
       "1      PLN     19000.0  \n",
       "2      PLN     15000.0  "
      ]
     },
     "execution_count": 5,
     "metadata": {},
     "output_type": "execute_result"
    }
   ],
   "source": [
    "# Přidat nový salary_avg sloupec jako průměr sloupců salary_high a salary_low,\n",
    "data_pln['Salary_avg'] = (data_pln['Salary Low'] + data_pln['Salary High']) / 2\n",
    "data_pln.head(3)"
   ]
  },
  {
   "cell_type": "code",
   "execution_count": 6,
   "metadata": {},
   "outputs": [
    {
     "data": {
      "text/plain": [
       "array(['warszawa', 'szczecin', 'wrocław', 'remote', 'gdynia', 'warsaw',\n",
       "       'poznań', 'tczew', 'gdańsk', 'ostrów', 'kraków', 'kobyłka', 'łódź'],\n",
       "      dtype=object)"
      ]
     },
     "execution_count": 6,
     "metadata": {},
     "output_type": "execute_result"
    }
   ],
   "source": [
    "data_pln['Location'].unique()"
   ]
  },
  {
   "cell_type": "code",
   "execution_count": 7,
   "metadata": {},
   "outputs": [
    {
     "data": {
      "text/plain": [
       "array(['warsaw', 'szczecin', 'wrocław', 'remote', 'gdynia', 'poznań',\n",
       "       'tczew', 'gdańsk', 'ostrów', 'kraków', 'kobyłka', 'łódź'],\n",
       "      dtype=object)"
      ]
     },
     "execution_count": 7,
     "metadata": {},
     "output_type": "execute_result"
    }
   ],
   "source": [
    "data_pln.loc[data_pln['Location'].isin(['warszawa']), 'Location'] = 'warsaw'\n",
    "\n",
    "data_pln['Location'].unique()"
   ]
  },
  {
   "cell_type": "code",
   "execution_count": 8,
   "metadata": {},
   "outputs": [
    {
     "name": "stderr",
     "output_type": "stream",
     "text": [
      "/var/folders/ly/b4ncvmb902ggx_hbc9vc3qy40000gp/T/ipykernel_58312/3266679374.py:1: SettingWithCopyWarning: \n",
      "A value is trying to be set on a copy of a slice from a DataFrame.\n",
      "Try using .loc[row_indexer,col_indexer] = value instead\n",
      "\n",
      "See the caveats in the documentation: https://pandas.pydata.org/pandas-docs/stable/user_guide/indexing.html#returning-a-view-versus-a-copy\n",
      "  data_pln['Country'] = \"PL\"\n"
     ]
    },
    {
     "data": {
      "text/plain": [
       "array(['PL', 'N/A'], dtype=object)"
      ]
     },
     "execution_count": 8,
     "metadata": {},
     "output_type": "execute_result"
    }
   ],
   "source": [
    "data_pln['Country'] = \"PL\"\n",
    "\n",
    "data_pln.loc[data_pln['Location'] == 'remote', 'Country'] = 'N/A'\n",
    "\n",
    "data_pln['Country'].unique()"
   ]
  },
  {
   "cell_type": "code",
   "execution_count": 9,
   "metadata": {},
   "outputs": [
    {
     "name": "stderr",
     "output_type": "stream",
     "text": [
      "/var/folders/ly/b4ncvmb902ggx_hbc9vc3qy40000gp/T/ipykernel_58312/2867785815.py:1: SettingWithCopyWarning: \n",
      "A value is trying to be set on a copy of a slice from a DataFrame.\n",
      "Try using .loc[row_indexer,col_indexer] = value instead\n",
      "\n",
      "See the caveats in the documentation: https://pandas.pydata.org/pandas-docs/stable/user_guide/indexing.html#returning-a-view-versus-a-copy\n",
      "  data_pln['Senior'] = 0\n"
     ]
    },
    {
     "data": {
      "text/plain": [
       "array([0, 1])"
      ]
     },
     "execution_count": 9,
     "metadata": {},
     "output_type": "execute_result"
    }
   ],
   "source": [
    "data_pln['Senior'] = 0\n",
    "data_pln.loc[data_pln['Name'].apply(lambda x: True if re.search('senior', x) else False),'Senior'] = 1\n",
    "\n",
    "data_pln['Senior'].unique()"
   ]
  },
  {
   "cell_type": "code",
   "execution_count": 10,
   "metadata": {},
   "outputs": [
    {
     "name": "stderr",
     "output_type": "stream",
     "text": [
      "/var/folders/ly/b4ncvmb902ggx_hbc9vc3qy40000gp/T/ipykernel_58312/1615881937.py:1: SettingWithCopyWarning: \n",
      "A value is trying to be set on a copy of a slice from a DataFrame.\n",
      "Try using .loc[row_indexer,col_indexer] = value instead\n",
      "\n",
      "See the caveats in the documentation: https://pandas.pydata.org/pandas-docs/stable/user_guide/indexing.html#returning-a-view-versus-a-copy\n",
      "  data_pln['Pozice'] = 0\n",
      "/var/folders/ly/b4ncvmb902ggx_hbc9vc3qy40000gp/T/ipykernel_58312/1615881937.py:2: FutureWarning: Setting an item of incompatible dtype is deprecated and will raise an error in a future version of pandas. Value 'scientist' has dtype incompatible with int64, please explicitly cast to a compatible dtype first.\n",
      "  data_pln.loc[data_pln['Name'].apply(lambda x: True if re.search('scientist', x) else False),'Pozice'] = 'scientist'\n"
     ]
    }
   ],
   "source": [
    "data_pln['Pozice'] = 0\n",
    "data_pln.loc[data_pln['Name'].apply(lambda x: True if re.search('scientist', x) else False),'Pozice'] = 'scientist'\n",
    "data_pln.loc[data_pln['Name'].apply(lambda x: True if re.search('analyst', x) else False),'Pozice'] = 'analyst'\n",
    "data_pln.loc[data_pln['Name'].apply(lambda x: True if re.search('engineer', x) else False),'Pozice'] = 'engineer'"
   ]
  },
  {
   "cell_type": "code",
   "execution_count": 11,
   "metadata": {},
   "outputs": [],
   "source": [
    "data_pln.to_csv('./job_offers_2024_08_18.csv',\n",
    "    sep=';',\n",
    "    encoding='UTF-8',\n",
    "    index=False)"
   ]
  }
 ],
 "metadata": {
  "kernelspec": {
   "display_name": "Python 3",
   "language": "python",
   "name": "python3"
  },
  "language_info": {
   "codemirror_mode": {
    "name": "ipython",
    "version": 3
   },
   "file_extension": ".py",
   "mimetype": "text/x-python",
   "name": "python",
   "nbconvert_exporter": "python",
   "pygments_lexer": "ipython3",
   "version": "3.9.6"
  }
 },
 "nbformat": 4,
 "nbformat_minor": 2
}
