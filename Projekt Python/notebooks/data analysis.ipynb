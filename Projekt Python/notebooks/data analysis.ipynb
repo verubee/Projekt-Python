{
 "cells": [
  {
   "cell_type": "code",
   "execution_count": 65,
   "metadata": {},
   "outputs": [],
   "source": [
    "import pandas as pd\n",
    "import matplotlib.pyplot as plt\n",
    "import re\n"
   ]
  },
  {
   "cell_type": "code",
   "execution_count": 66,
   "metadata": {},
   "outputs": [
    {
     "data": {
      "text/html": [
       "<div>\n",
       "<style scoped>\n",
       "    .dataframe tbody tr th:only-of-type {\n",
       "        vertical-align: middle;\n",
       "    }\n",
       "\n",
       "    .dataframe tbody tr th {\n",
       "        vertical-align: top;\n",
       "    }\n",
       "\n",
       "    .dataframe thead th {\n",
       "        text-align: right;\n",
       "    }\n",
       "</style>\n",
       "<table border=\"1\" class=\"dataframe\">\n",
       "  <thead>\n",
       "    <tr style=\"text-align: right;\">\n",
       "      <th></th>\n",
       "      <th>Name</th>\n",
       "      <th>Company</th>\n",
       "      <th>Location</th>\n",
       "      <th>Technologies</th>\n",
       "      <th>Salary Low</th>\n",
       "      <th>Salary High</th>\n",
       "      <th>Currency</th>\n",
       "      <th>Salary_avg</th>\n",
       "      <th>Country</th>\n",
       "      <th>Senior</th>\n",
       "      <th>Pozice</th>\n",
       "    </tr>\n",
       "  </thead>\n",
       "  <tbody>\n",
       "    <tr>\n",
       "      <th>0</th>\n",
       "      <td>mid sql data analyst</td>\n",
       "      <td>Ośrodek Przetwarzania Informacji - Państwowy I...</td>\n",
       "      <td>warsaw</td>\n",
       "      <td>Data  SQL  pandas  Python</td>\n",
       "      <td>8000.0</td>\n",
       "      <td>10000.0</td>\n",
       "      <td>PLN</td>\n",
       "      <td>9000.0</td>\n",
       "      <td>PL</td>\n",
       "      <td>0</td>\n",
       "      <td>analyst</td>\n",
       "    </tr>\n",
       "    <tr>\n",
       "      <th>1</th>\n",
       "      <td>data analyst</td>\n",
       "      <td>Ferrosan Medical Devices</td>\n",
       "      <td>szczecin</td>\n",
       "      <td>Data  Python  Degree  Data science</td>\n",
       "      <td>14000.0</td>\n",
       "      <td>24000.0</td>\n",
       "      <td>PLN</td>\n",
       "      <td>19000.0</td>\n",
       "      <td>PL</td>\n",
       "      <td>0</td>\n",
       "      <td>analyst</td>\n",
       "    </tr>\n",
       "    <tr>\n",
       "      <th>2</th>\n",
       "      <td>data analyst</td>\n",
       "      <td>Volvo Group</td>\n",
       "      <td>wrocław</td>\n",
       "      <td>Data  SQL  Azure  Power BI</td>\n",
       "      <td>12000.0</td>\n",
       "      <td>18000.0</td>\n",
       "      <td>PLN</td>\n",
       "      <td>15000.0</td>\n",
       "      <td>PL</td>\n",
       "      <td>0</td>\n",
       "      <td>analyst</td>\n",
       "    </tr>\n",
       "    <tr>\n",
       "      <th>3</th>\n",
       "      <td>qa/ data analyst</td>\n",
       "      <td>AVENGA</td>\n",
       "      <td>wrocław</td>\n",
       "      <td>Testing  SQL  QlikView  PySpark</td>\n",
       "      <td>16800.0</td>\n",
       "      <td>20000.0</td>\n",
       "      <td>PLN</td>\n",
       "      <td>18400.0</td>\n",
       "      <td>PL</td>\n",
       "      <td>0</td>\n",
       "      <td>analyst</td>\n",
       "    </tr>\n",
       "    <tr>\n",
       "      <th>4</th>\n",
       "      <td>data analyst</td>\n",
       "      <td>Cognitum Services SA</td>\n",
       "      <td>warsaw</td>\n",
       "      <td>Data  AWS  SQL  Data analysis</td>\n",
       "      <td>17000.0</td>\n",
       "      <td>23000.0</td>\n",
       "      <td>PLN</td>\n",
       "      <td>20000.0</td>\n",
       "      <td>PL</td>\n",
       "      <td>0</td>\n",
       "      <td>analyst</td>\n",
       "    </tr>\n",
       "  </tbody>\n",
       "</table>\n",
       "</div>"
      ],
      "text/plain": [
       "                     Name                                            Company  \\\n",
       "0   mid sql data analyst   Ośrodek Przetwarzania Informacji - Państwowy I...   \n",
       "1           data analyst                            Ferrosan Medical Devices   \n",
       "2           data analyst                                         Volvo Group   \n",
       "3       qa/ data analyst                                              AVENGA   \n",
       "4           data analyst                                Cognitum Services SA   \n",
       "\n",
       "   Location                        Technologies  Salary Low  Salary High  \\\n",
       "0    warsaw           Data  SQL  pandas  Python      8000.0      10000.0   \n",
       "1  szczecin  Data  Python  Degree  Data science     14000.0      24000.0   \n",
       "2   wrocław          Data  SQL  Azure  Power BI     12000.0      18000.0   \n",
       "3   wrocław     Testing  SQL  QlikView  PySpark     16800.0      20000.0   \n",
       "4    warsaw       Data  AWS  SQL  Data analysis     17000.0      23000.0   \n",
       "\n",
       "  Currency  Salary_avg Country  Senior   Pozice  \n",
       "0      PLN      9000.0      PL       0  analyst  \n",
       "1      PLN     19000.0      PL       0  analyst  \n",
       "2      PLN     15000.0      PL       0  analyst  \n",
       "3      PLN     18400.0      PL       0  analyst  \n",
       "4      PLN     20000.0      PL       0  analyst  "
      ]
     },
     "execution_count": 66,
     "metadata": {},
     "output_type": "execute_result"
    }
   ],
   "source": [
    "data = pd.read_csv('./job_offers_2024_08_18.csv', sep=';', decimal='.', encoding='UTF-8')\n",
    "data.head()"
   ]
  },
  {
   "cell_type": "markdown",
   "metadata": {},
   "source": [
    "# 1.Kolik pracovních míst pro konkrétní pozici bylo nalezeno?  \n",
    "job_names = ['data analyst', 'data engineer', 'data scientist']"
   ]
  },
  {
   "cell_type": "code",
   "execution_count": 67,
   "metadata": {},
   "outputs": [],
   "source": [
    "scientist = data.loc[data['Name'].apply(lambda x: True if re.search('scientist', x) else False),]"
   ]
  },
  {
   "cell_type": "code",
   "execution_count": 68,
   "metadata": {},
   "outputs": [],
   "source": [
    "analyst = data.loc[data['Name'].apply(lambda x: True if re.search('analyst', x) else False),]"
   ]
  },
  {
   "cell_type": "code",
   "execution_count": 69,
   "metadata": {},
   "outputs": [],
   "source": [
    "engineer = data.loc[data['Name'].apply(lambda x: True if re.search('engineer', x) else False),]"
   ]
  },
  {
   "cell_type": "code",
   "execution_count": 70,
   "metadata": {},
   "outputs": [
    {
     "name": "stdout",
     "output_type": "stream",
     "text": [
      "Number of Analyst jobs is 7\n",
      "Number of Engineer jobs is 139\n",
      "Number of Scientist jobs is 21\n"
     ]
    }
   ],
   "source": [
    "print(f'Number of Analyst jobs is {analyst.shape[0]}' )\n",
    "print(f'Number of Engineer jobs is {engineer.shape[0]}' )\n",
    "print(f'Number of Scientist jobs is {scientist.shape[0]}' )"
   ]
  },
  {
   "cell_type": "markdown",
   "metadata": {},
   "source": [
    "# 2. Jaká je průměrná mzda za každou práci?\n"
   ]
  },
  {
   "cell_type": "code",
   "execution_count": 71,
   "metadata": {},
   "outputs": [
    {
     "name": "stdout",
     "output_type": "stream",
     "text": [
      "Average salary for position Analyst: 15771.43 PLN\n",
      "Average salary for position Engineer: 24561.27 PLN\n",
      "Average salary for position Scientist: 24115.67 PLN\n"
     ]
    }
   ],
   "source": [
    "analyst_avg = round(analyst['Salary_avg'].mean(), 2)\n",
    "engineer_avg = round(engineer['Salary_avg'].mean(), 2)\n",
    "scientist_avg = round(scientist['Salary_avg'].mean(), 2)\n",
    "print ('Average salary for position Analyst:', analyst_avg, 'PLN')\n",
    "print ('Average salary for position Engineer:', engineer_avg, 'PLN')\n",
    "print ('Average salary for position Scientist:', scientist_avg, 'PLN')"
   ]
  },
  {
   "cell_type": "markdown",
   "metadata": {},
   "source": [
    "# 3. Které město má nejvíce pracovních nabídek?"
   ]
  },
  {
   "cell_type": "code",
   "execution_count": 72,
   "metadata": {},
   "outputs": [
    {
     "data": {
      "text/plain": [
       "array(['warsaw', 'szczecin', 'wrocław', 'remote', 'gdynia', 'poznań',\n",
       "       'tczew', 'gdańsk', 'ostrów', 'kraków', 'kobyłka', 'łódź'],\n",
       "      dtype=object)"
      ]
     },
     "execution_count": 72,
     "metadata": {},
     "output_type": "execute_result"
    }
   ],
   "source": [
    "data['Location'].unique()"
   ]
  },
  {
   "cell_type": "code",
   "execution_count": 73,
   "metadata": {},
   "outputs": [
    {
     "name": "stdout",
     "output_type": "stream",
     "text": [
      "There are 4 job offers in gdańsk.\n",
      "There are 6 job offers in gdynia.\n",
      "There are 1 job offers in kobyłka.\n",
      "There are 17 job offers in kraków.\n",
      "There are 1 job offers in ostrów.\n",
      "There are 5 job offers in poznań.\n",
      "There are 148 job offers in remote.\n",
      "There are 1 job offers in szczecin.\n",
      "There are 2 job offers in tczew.\n",
      "There are 30 job offers in warsaw.\n",
      "There are 3 job offers in wrocław.\n",
      "There are 4 job offers in łódź.\n"
     ]
    }
   ],
   "source": [
    "data_grouped_by_location = data.groupby('Location')\n",
    "\n",
    "for (locations, grouped_data) in data_grouped_by_location:\n",
    "    print(f\"There are {len(grouped_data)} job offers in {locations}.\")\n"
   ]
  },
  {
   "cell_type": "markdown",
   "metadata": {},
   "source": [
    "# 4. Kde je nabízena nejvyšší sazba?"
   ]
  },
  {
   "cell_type": "code",
   "execution_count": 74,
   "metadata": {},
   "outputs": [
    {
     "data": {
      "text/plain": [
       "Location\n",
       "gdańsk      29400.0\n",
       "gdynia      32000.0\n",
       "kobyłka     20000.0\n",
       "kraków      40000.0\n",
       "ostrów      10000.0\n",
       "poznań      26376.0\n",
       "remote      40000.0\n",
       "szczecin    24000.0\n",
       "tczew       20000.0\n",
       "warsaw      64000.0\n",
       "wrocław     21000.0\n",
       "łódź        29400.0\n",
       "Name: Salary High, dtype: float64"
      ]
     },
     "execution_count": 74,
     "metadata": {},
     "output_type": "execute_result"
    }
   ],
   "source": [
    "data_grouped_by_location['Salary High'].max()\n",
    "\n"
   ]
  },
  {
   "cell_type": "code",
   "execution_count": 75,
   "metadata": {},
   "outputs": [
    {
     "name": "stdout",
     "output_type": "stream",
     "text": [
      "The highest salary is in Warsaw with 42000 PLN salary.\n"
     ]
    }
   ],
   "source": [
    "print(f\"The highest salary is in Warsaw with 42000 PLN salary.\")"
   ]
  },
  {
   "cell_type": "markdown",
   "metadata": {},
   "source": [
    "# 5. Jaký je rozdíl mezi nabídkou pro běžného a seniora ?"
   ]
  },
  {
   "cell_type": "code",
   "execution_count": 76,
   "metadata": {},
   "outputs": [
    {
     "data": {
      "text/html": [
       "<div>\n",
       "<style scoped>\n",
       "    .dataframe tbody tr th:only-of-type {\n",
       "        vertical-align: middle;\n",
       "    }\n",
       "\n",
       "    .dataframe tbody tr th {\n",
       "        vertical-align: top;\n",
       "    }\n",
       "\n",
       "    .dataframe thead th {\n",
       "        text-align: right;\n",
       "    }\n",
       "</style>\n",
       "<table border=\"1\" class=\"dataframe\">\n",
       "  <thead>\n",
       "    <tr style=\"text-align: right;\">\n",
       "      <th></th>\n",
       "      <th>Senior</th>\n",
       "      <th>count</th>\n",
       "      <th>avg_salary</th>\n",
       "    </tr>\n",
       "  </thead>\n",
       "  <tbody>\n",
       "    <tr>\n",
       "      <th>0</th>\n",
       "      <td>0</td>\n",
       "      <td>127</td>\n",
       "      <td>23218.75</td>\n",
       "    </tr>\n",
       "    <tr>\n",
       "      <th>1</th>\n",
       "      <td>1</td>\n",
       "      <td>95</td>\n",
       "      <td>25347.22</td>\n",
       "    </tr>\n",
       "  </tbody>\n",
       "</table>\n",
       "</div>"
      ],
      "text/plain": [
       "   Senior  count  avg_salary\n",
       "0       0    127    23218.75\n",
       "1       1     95    25347.22"
      ]
     },
     "execution_count": 76,
     "metadata": {},
     "output_type": "execute_result"
    }
   ],
   "source": [
    "result = data.groupby('Senior').agg(\n",
    "    count=('Senior', 'size'),\n",
    "    avg_salary=('Salary_avg','mean')\n",
    ").reset_index()\n",
    "round(result, 2)"
   ]
  },
  {
   "cell_type": "code",
   "execution_count": 77,
   "metadata": {},
   "outputs": [
    {
     "name": "stdout",
     "output_type": "stream",
     "text": [
      "The average salary for a regular employee is 22652.45 PLN. while for a senior it is 25434.26 PLN.\n"
     ]
    }
   ],
   "source": [
    "print(\"The average salary for a regular employee is 22652.45 PLN. while for a senior it is 25434.26 PLN.\")"
   ]
  },
  {
   "cell_type": "markdown",
   "metadata": {},
   "source": [
    "# 6. Jaké jsou nejnižší možné náklady na pronájem týmu složeného z datového analytika, datového inženýra a datového vědce?"
   ]
  },
  {
   "cell_type": "code",
   "execution_count": 78,
   "metadata": {},
   "outputs": [
    {
     "name": "stdout",
     "output_type": "stream",
     "text": [
      "Minimum salary per position Analyst: 8000.0 PLN\n",
      "Minimum salary per position Engineer: 4500.0 PLN\n",
      "Minimum salary per position Scientist: 14280.0 PLN\n"
     ]
    },
    {
     "data": {
      "text/html": [
       "<div>\n",
       "<style scoped>\n",
       "    .dataframe tbody tr th:only-of-type {\n",
       "        vertical-align: middle;\n",
       "    }\n",
       "\n",
       "    .dataframe tbody tr th {\n",
       "        vertical-align: top;\n",
       "    }\n",
       "\n",
       "    .dataframe thead th {\n",
       "        text-align: right;\n",
       "    }\n",
       "</style>\n",
       "<table border=\"1\" class=\"dataframe\">\n",
       "  <thead>\n",
       "    <tr style=\"text-align: right;\">\n",
       "      <th></th>\n",
       "      <th>Name</th>\n",
       "      <th>Company</th>\n",
       "      <th>Location</th>\n",
       "      <th>Technologies</th>\n",
       "      <th>Salary Low</th>\n",
       "      <th>Salary High</th>\n",
       "      <th>Currency</th>\n",
       "      <th>Salary_avg</th>\n",
       "      <th>Country</th>\n",
       "      <th>Senior</th>\n",
       "      <th>Pozice</th>\n",
       "    </tr>\n",
       "  </thead>\n",
       "  <tbody>\n",
       "    <tr>\n",
       "      <th>0</th>\n",
       "      <td>mid sql data analyst</td>\n",
       "      <td>Ośrodek Przetwarzania Informacji - Państwowy I...</td>\n",
       "      <td>warsaw</td>\n",
       "      <td>Data  SQL  pandas  Python</td>\n",
       "      <td>8000.0</td>\n",
       "      <td>10000.0</td>\n",
       "      <td>PLN</td>\n",
       "      <td>9000.0</td>\n",
       "      <td>PL</td>\n",
       "      <td>0</td>\n",
       "      <td>analyst</td>\n",
       "    </tr>\n",
       "    <tr>\n",
       "      <th>1</th>\n",
       "      <td>data analyst</td>\n",
       "      <td>Ferrosan Medical Devices</td>\n",
       "      <td>szczecin</td>\n",
       "      <td>Data  Python  Degree  Data science</td>\n",
       "      <td>14000.0</td>\n",
       "      <td>24000.0</td>\n",
       "      <td>PLN</td>\n",
       "      <td>19000.0</td>\n",
       "      <td>PL</td>\n",
       "      <td>0</td>\n",
       "      <td>analyst</td>\n",
       "    </tr>\n",
       "    <tr>\n",
       "      <th>2</th>\n",
       "      <td>data analyst</td>\n",
       "      <td>Volvo Group</td>\n",
       "      <td>wrocław</td>\n",
       "      <td>Data  SQL  Azure  Power BI</td>\n",
       "      <td>12000.0</td>\n",
       "      <td>18000.0</td>\n",
       "      <td>PLN</td>\n",
       "      <td>15000.0</td>\n",
       "      <td>PL</td>\n",
       "      <td>0</td>\n",
       "      <td>analyst</td>\n",
       "    </tr>\n",
       "    <tr>\n",
       "      <th>3</th>\n",
       "      <td>qa/ data analyst</td>\n",
       "      <td>AVENGA</td>\n",
       "      <td>wrocław</td>\n",
       "      <td>Testing  SQL  QlikView  PySpark</td>\n",
       "      <td>16800.0</td>\n",
       "      <td>20000.0</td>\n",
       "      <td>PLN</td>\n",
       "      <td>18400.0</td>\n",
       "      <td>PL</td>\n",
       "      <td>0</td>\n",
       "      <td>analyst</td>\n",
       "    </tr>\n",
       "    <tr>\n",
       "      <th>4</th>\n",
       "      <td>data analyst</td>\n",
       "      <td>Cognitum Services SA</td>\n",
       "      <td>warsaw</td>\n",
       "      <td>Data  AWS  SQL  Data analysis</td>\n",
       "      <td>17000.0</td>\n",
       "      <td>23000.0</td>\n",
       "      <td>PLN</td>\n",
       "      <td>20000.0</td>\n",
       "      <td>PL</td>\n",
       "      <td>0</td>\n",
       "      <td>analyst</td>\n",
       "    </tr>\n",
       "  </tbody>\n",
       "</table>\n",
       "</div>"
      ],
      "text/plain": [
       "                     Name                                            Company  \\\n",
       "0   mid sql data analyst   Ośrodek Przetwarzania Informacji - Państwowy I...   \n",
       "1           data analyst                            Ferrosan Medical Devices   \n",
       "2           data analyst                                         Volvo Group   \n",
       "3       qa/ data analyst                                              AVENGA   \n",
       "4           data analyst                                Cognitum Services SA   \n",
       "\n",
       "   Location                        Technologies  Salary Low  Salary High  \\\n",
       "0    warsaw           Data  SQL  pandas  Python      8000.0      10000.0   \n",
       "1  szczecin  Data  Python  Degree  Data science     14000.0      24000.0   \n",
       "2   wrocław          Data  SQL  Azure  Power BI     12000.0      18000.0   \n",
       "3   wrocław     Testing  SQL  QlikView  PySpark     16800.0      20000.0   \n",
       "4    warsaw       Data  AWS  SQL  Data analysis     17000.0      23000.0   \n",
       "\n",
       "  Currency  Salary_avg Country  Senior   Pozice  \n",
       "0      PLN      9000.0      PL       0  analyst  \n",
       "1      PLN     19000.0      PL       0  analyst  \n",
       "2      PLN     15000.0      PL       0  analyst  \n",
       "3      PLN     18400.0      PL       0  analyst  \n",
       "4      PLN     20000.0      PL       0  analyst  "
      ]
     },
     "execution_count": 78,
     "metadata": {},
     "output_type": "execute_result"
    }
   ],
   "source": [
    "analyst_min = round(analyst['Salary Low'].min(), 2)\n",
    "engineer_min = round(engineer['Salary Low'].min(), 2)\n",
    "scientist_min = round(scientist['Salary Low'].min(), 2)\n",
    "print ('Minimum salary per position Analyst:', analyst_min, 'PLN')\n",
    "print ('Minimum salary per position Engineer:', engineer_min, 'PLN')\n",
    "print ('Minimum salary per position Scientist:', scientist_min, 'PLN')\n",
    "\n",
    "data.head()"
   ]
  },
  {
   "cell_type": "markdown",
   "metadata": {},
   "source": [
    "# 7. Je možné, aby tým vznikl v jednom městě? Pokud ano, kde by to bylo nejlevnější?"
   ]
  },
  {
   "cell_type": "code",
   "execution_count": 79,
   "metadata": {},
   "outputs": [
    {
     "data": {
      "text/html": [
       "<div>\n",
       "<style scoped>\n",
       "    .dataframe tbody tr th:only-of-type {\n",
       "        vertical-align: middle;\n",
       "    }\n",
       "\n",
       "    .dataframe tbody tr th {\n",
       "        vertical-align: top;\n",
       "    }\n",
       "\n",
       "    .dataframe thead th {\n",
       "        text-align: right;\n",
       "    }\n",
       "</style>\n",
       "<table border=\"1\" class=\"dataframe\">\n",
       "  <thead>\n",
       "    <tr style=\"text-align: right;\">\n",
       "      <th>Pozice</th>\n",
       "      <th>0</th>\n",
       "      <th>analyst</th>\n",
       "      <th>engineer</th>\n",
       "      <th>scientist</th>\n",
       "    </tr>\n",
       "    <tr>\n",
       "      <th>Location</th>\n",
       "      <th></th>\n",
       "      <th></th>\n",
       "      <th></th>\n",
       "      <th></th>\n",
       "    </tr>\n",
       "  </thead>\n",
       "  <tbody>\n",
       "    <tr>\n",
       "      <th>gdańsk</th>\n",
       "      <td>4</td>\n",
       "      <td>0</td>\n",
       "      <td>0</td>\n",
       "      <td>0</td>\n",
       "    </tr>\n",
       "    <tr>\n",
       "      <th>gdynia</th>\n",
       "      <td>4</td>\n",
       "      <td>0</td>\n",
       "      <td>0</td>\n",
       "      <td>2</td>\n",
       "    </tr>\n",
       "    <tr>\n",
       "      <th>kobyłka</th>\n",
       "      <td>1</td>\n",
       "      <td>0</td>\n",
       "      <td>0</td>\n",
       "      <td>0</td>\n",
       "    </tr>\n",
       "    <tr>\n",
       "      <th>kraków</th>\n",
       "      <td>3</td>\n",
       "      <td>0</td>\n",
       "      <td>13</td>\n",
       "      <td>1</td>\n",
       "    </tr>\n",
       "    <tr>\n",
       "      <th>ostrów</th>\n",
       "      <td>0</td>\n",
       "      <td>0</td>\n",
       "      <td>1</td>\n",
       "      <td>0</td>\n",
       "    </tr>\n",
       "    <tr>\n",
       "      <th>poznań</th>\n",
       "      <td>2</td>\n",
       "      <td>0</td>\n",
       "      <td>3</td>\n",
       "      <td>0</td>\n",
       "    </tr>\n",
       "    <tr>\n",
       "      <th>remote</th>\n",
       "      <td>27</td>\n",
       "      <td>0</td>\n",
       "      <td>111</td>\n",
       "      <td>10</td>\n",
       "    </tr>\n",
       "    <tr>\n",
       "      <th>szczecin</th>\n",
       "      <td>0</td>\n",
       "      <td>1</td>\n",
       "      <td>0</td>\n",
       "      <td>0</td>\n",
       "    </tr>\n",
       "    <tr>\n",
       "      <th>tczew</th>\n",
       "      <td>2</td>\n",
       "      <td>0</td>\n",
       "      <td>0</td>\n",
       "      <td>0</td>\n",
       "    </tr>\n",
       "    <tr>\n",
       "      <th>warsaw</th>\n",
       "      <td>14</td>\n",
       "      <td>4</td>\n",
       "      <td>10</td>\n",
       "      <td>2</td>\n",
       "    </tr>\n",
       "    <tr>\n",
       "      <th>wrocław</th>\n",
       "      <td>0</td>\n",
       "      <td>2</td>\n",
       "      <td>1</td>\n",
       "      <td>0</td>\n",
       "    </tr>\n",
       "    <tr>\n",
       "      <th>łódź</th>\n",
       "      <td>2</td>\n",
       "      <td>0</td>\n",
       "      <td>0</td>\n",
       "      <td>2</td>\n",
       "    </tr>\n",
       "  </tbody>\n",
       "</table>\n",
       "</div>"
      ],
      "text/plain": [
       "Pozice     0  analyst  engineer  scientist\n",
       "Location                                  \n",
       "gdańsk     4        0         0          0\n",
       "gdynia     4        0         0          2\n",
       "kobyłka    1        0         0          0\n",
       "kraków     3        0        13          1\n",
       "ostrów     0        0         1          0\n",
       "poznań     2        0         3          0\n",
       "remote    27        0       111         10\n",
       "szczecin   0        1         0          0\n",
       "tczew      2        0         0          0\n",
       "warsaw    14        4        10          2\n",
       "wrocław    0        2         1          0\n",
       "łódź       2        0         0          2"
      ]
     },
     "execution_count": 79,
     "metadata": {},
     "output_type": "execute_result"
    }
   ],
   "source": [
    "pivot = data.pivot_table(\n",
    "    index='Location', \n",
    "    columns= 'Pozice', \n",
    "    aggfunc='size', \n",
    "    fill_value=0\n",
    "    )\n",
    "\n",
    "pivot"
   ]
  },
  {
   "cell_type": "markdown",
   "metadata": {},
   "source": [
    "Ano pouze ve Warsaw"
   ]
  },
  {
   "cell_type": "code",
   "execution_count": 80,
   "metadata": {},
   "outputs": [
    {
     "data": {
      "text/html": [
       "<div>\n",
       "<style scoped>\n",
       "    .dataframe tbody tr th:only-of-type {\n",
       "        vertical-align: middle;\n",
       "    }\n",
       "\n",
       "    .dataframe tbody tr th {\n",
       "        vertical-align: top;\n",
       "    }\n",
       "\n",
       "    .dataframe thead th {\n",
       "        text-align: right;\n",
       "    }\n",
       "</style>\n",
       "<table border=\"1\" class=\"dataframe\">\n",
       "  <thead>\n",
       "    <tr style=\"text-align: right;\">\n",
       "      <th>Pozice</th>\n",
       "      <th>0</th>\n",
       "      <th>analyst</th>\n",
       "      <th>engineer</th>\n",
       "      <th>scientist</th>\n",
       "    </tr>\n",
       "    <tr>\n",
       "      <th>Location</th>\n",
       "      <th></th>\n",
       "      <th></th>\n",
       "      <th></th>\n",
       "      <th></th>\n",
       "    </tr>\n",
       "  </thead>\n",
       "  <tbody>\n",
       "    <tr>\n",
       "      <th>gdańsk</th>\n",
       "      <td>25200.0</td>\n",
       "      <td>0.0</td>\n",
       "      <td>0.0</td>\n",
       "      <td>0.0</td>\n",
       "    </tr>\n",
       "    <tr>\n",
       "      <th>gdynia</th>\n",
       "      <td>12000.0</td>\n",
       "      <td>0.0</td>\n",
       "      <td>0.0</td>\n",
       "      <td>17000.0</td>\n",
       "    </tr>\n",
       "    <tr>\n",
       "      <th>kobyłka</th>\n",
       "      <td>17000.0</td>\n",
       "      <td>0.0</td>\n",
       "      <td>0.0</td>\n",
       "      <td>0.0</td>\n",
       "    </tr>\n",
       "    <tr>\n",
       "      <th>kraków</th>\n",
       "      <td>28000.0</td>\n",
       "      <td>0.0</td>\n",
       "      <td>17000.0</td>\n",
       "      <td>26000.0</td>\n",
       "    </tr>\n",
       "    <tr>\n",
       "      <th>ostrów</th>\n",
       "      <td>0.0</td>\n",
       "      <td>0.0</td>\n",
       "      <td>5500.0</td>\n",
       "      <td>0.0</td>\n",
       "    </tr>\n",
       "    <tr>\n",
       "      <th>poznań</th>\n",
       "      <td>18000.0</td>\n",
       "      <td>0.0</td>\n",
       "      <td>19320.0</td>\n",
       "      <td>0.0</td>\n",
       "    </tr>\n",
       "    <tr>\n",
       "      <th>remote</th>\n",
       "      <td>7000.0</td>\n",
       "      <td>0.0</td>\n",
       "      <td>7000.0</td>\n",
       "      <td>16198.0</td>\n",
       "    </tr>\n",
       "    <tr>\n",
       "      <th>szczecin</th>\n",
       "      <td>0.0</td>\n",
       "      <td>14000.0</td>\n",
       "      <td>0.0</td>\n",
       "      <td>0.0</td>\n",
       "    </tr>\n",
       "    <tr>\n",
       "      <th>tczew</th>\n",
       "      <td>17000.0</td>\n",
       "      <td>0.0</td>\n",
       "      <td>0.0</td>\n",
       "      <td>0.0</td>\n",
       "    </tr>\n",
       "    <tr>\n",
       "      <th>warsaw</th>\n",
       "      <td>16800.0</td>\n",
       "      <td>8000.0</td>\n",
       "      <td>4500.0</td>\n",
       "      <td>22400.0</td>\n",
       "    </tr>\n",
       "    <tr>\n",
       "      <th>wrocław</th>\n",
       "      <td>0.0</td>\n",
       "      <td>12000.0</td>\n",
       "      <td>16000.0</td>\n",
       "      <td>0.0</td>\n",
       "    </tr>\n",
       "    <tr>\n",
       "      <th>łódź</th>\n",
       "      <td>21840.0</td>\n",
       "      <td>0.0</td>\n",
       "      <td>0.0</td>\n",
       "      <td>25200.0</td>\n",
       "    </tr>\n",
       "  </tbody>\n",
       "</table>\n",
       "</div>"
      ],
      "text/plain": [
       "Pozice          0  analyst  engineer  scientist\n",
       "Location                                       \n",
       "gdańsk    25200.0      0.0       0.0        0.0\n",
       "gdynia    12000.0      0.0       0.0    17000.0\n",
       "kobyłka   17000.0      0.0       0.0        0.0\n",
       "kraków    28000.0      0.0   17000.0    26000.0\n",
       "ostrów        0.0      0.0    5500.0        0.0\n",
       "poznań    18000.0      0.0   19320.0        0.0\n",
       "remote     7000.0      0.0    7000.0    16198.0\n",
       "szczecin      0.0  14000.0       0.0        0.0\n",
       "tczew     17000.0      0.0       0.0        0.0\n",
       "warsaw    16800.0   8000.0    4500.0    22400.0\n",
       "wrocław       0.0  12000.0   16000.0        0.0\n",
       "łódź      21840.0      0.0       0.0    25200.0"
      ]
     },
     "execution_count": 80,
     "metadata": {},
     "output_type": "execute_result"
    }
   ],
   "source": [
    "pivot = data.pivot_table(\n",
    "    index='Location', \n",
    "    columns= 'Pozice', \n",
    "    values='Salary Low',\n",
    "    aggfunc='min', \n",
    "    fill_value=0\n",
    "    )\n",
    "\n",
    "pivot"
   ]
  },
  {
   "cell_type": "markdown",
   "metadata": {},
   "source": [
    "# Kromě toho vizualizujte podsekce 1–5 pomocí typů grafů podle vašeho výběru."
   ]
  },
  {
   "cell_type": "markdown",
   "metadata": {},
   "source": [
    "## 1. Graf - počet pozic"
   ]
  },
  {
   "cell_type": "code",
   "execution_count": 81,
   "metadata": {},
   "outputs": [],
   "source": [
    "num_analyst = analyst.shape[0]\n",
    "num_engineer = engineer.shape[0]\n",
    "num_scientist = scientist.shape[0]"
   ]
  },
  {
   "cell_type": "code",
   "execution_count": 82,
   "metadata": {},
   "outputs": [
    {
     "data": {
      "image/png": "[encoded data removed]",
      "text/plain": [
       "<Figure size 1500x600 with 1 Axes>"
      ]
     },
     "metadata": {},
     "output_type": "display_data"
    }
   ],
   "source": [
    "categories = ['Analyst', 'Engineer', 'Scientist']\n",
    "counts = [num_analyst, num_engineer, num_scientist]\n",
    "\n",
    "plt.figure(figsize=(15, 6))\n",
    "plt.bar(categories, counts, color=['lightblue', 'plum', 'pink'])\n",
    "plt.xlabel('Job Titles')\n",
    "plt.ylabel('Number of Jobs')\n",
    "plt.title('Number of Job Positions')\n",
    "plt.show()"
   ]
  },
  {
   "cell_type": "markdown",
   "metadata": {},
   "source": [
    "## 2. Graf - Jaká je průměrná mzda za každou pozici?"
   ]
  },
  {
   "cell_type": "code",
   "execution_count": 83,
   "metadata": {},
   "outputs": [
    {
     "data": {
      "image/png": "[encoded data removed]",
      "text/plain": [
       "<Figure size 1500x600 with 1 Axes>"
      ]
     },
     "metadata": {},
     "output_type": "display_data"
    }
   ],
   "source": [
    "categories = ['Analyst', 'Engineer', 'Scientist']\n",
    "counts = [analyst_avg, engineer_avg, scientist_avg]\n",
    "\n",
    "plt.figure(figsize=(15, 6))\n",
    "plt.bar(categories, counts, color=['lightblue', 'plum', 'pink'])\n",
    "plt.xlabel('Job Titles')\n",
    "plt.ylabel('Average salary')\n",
    "plt.title('Average salary for each position')\n",
    "plt.show()"
   ]
  },
  {
   "cell_type": "markdown",
   "metadata": {},
   "source": [
    "## 3. Graf - kolik pozic je v každém městě?"
   ]
  },
  {
   "cell_type": "code",
   "execution_count": 84,
   "metadata": {},
   "outputs": [],
   "source": [
    "\n",
    "filtered_data = data[~data['Location'].str.contains('remote')]\n",
    "\n",
    "\n",
    "data_grouped_by_location = filtered_data.groupby('Location')\n",
    "\n",
    "\n",
    "\n"
   ]
  },
  {
   "cell_type": "code",
   "execution_count": 85,
   "metadata": {},
   "outputs": [
    {
     "name": "stdout",
     "output_type": "stream",
     "text": [
      "There are 4 job offers in gdańsk.\n",
      "There are 6 job offers in gdynia.\n",
      "There are 1 job offers in kobyłka.\n",
      "There are 17 job offers in kraków.\n",
      "There are 1 job offers in ostrów.\n",
      "There are 5 job offers in poznań.\n",
      "There are 1 job offers in szczecin.\n",
      "There are 2 job offers in tczew.\n",
      "There are 30 job offers in warsaw.\n",
      "There are 3 job offers in wrocław.\n",
      "There are 4 job offers in łódź.\n"
     ]
    },
    {
     "data": {
      "text/plain": [
       "[4, 6, 1, 17, 1, 5, 1, 2, 30, 3, 4]"
      ]
     },
     "execution_count": 85,
     "metadata": {},
     "output_type": "execute_result"
    }
   ],
   "source": [
    "\n",
    "filtered_data = data[~data['Location'].str.contains('Remote', case=False, na=False)]\n",
    "\n",
    "\n",
    "data_grouped_by_location = filtered_data.groupby('Location')\n",
    "\n",
    "locations = []\n",
    "counts = []\n",
    "\n",
    "for location, grouped_data in data_grouped_by_location:\n",
    "    print(f\"There are {len(grouped_data)} job offers in {location}.\")\n",
    "\n",
    "    locations.append(location)\n",
    "    counts.append(len(grouped_data))\n",
    "\n",
    "locations\n",
    "counts"
   ]
  },
  {
   "cell_type": "code",
   "execution_count": 86,
   "metadata": {},
   "outputs": [
    {
     "data": {
      "image/png": "[encoded data removed]",
      "text/plain": [
       "<Figure size 1500x600 with 1 Axes>"
      ]
     },
     "metadata": {},
     "output_type": "display_data"
    }
   ],
   "source": [
    "# Vytvoření grafu\n",
    "plt.figure(figsize=(15, 6))\n",
    "plt.bar(locations, counts, color = 'lightblue')\n",
    "plt.xlabel('Cities')\n",
    "plt.ylabel('Number of offers')\n",
    "plt.title('Number of offers in each city')\n",
    "plt.show()"
   ]
  },
  {
   "cell_type": "markdown",
   "metadata": {},
   "source": [
    "## 4. Graf - kde je nejvyšší sazba? "
   ]
  },
  {
   "cell_type": "code",
   "execution_count": 87,
   "metadata": {},
   "outputs": [],
   "source": [
    "counts_max = data_grouped_by_location['Salary High'].max()"
   ]
  },
  {
   "cell_type": "code",
   "execution_count": 88,
   "metadata": {},
   "outputs": [
    {
     "data": {
      "image/png": "[encoded data removed]",
      "text/plain": [
       "<Figure size 1500x600 with 1 Axes>"
      ]
     },
     "metadata": {},
     "output_type": "display_data"
    }
   ],
   "source": [
    "plt.figure(figsize=(15, 6))\n",
    "plt.bar(locations, counts_max, color = 'lightblue')\n",
    "plt.xlabel('Cities')\n",
    "plt.ylabel('Highest salary')\n",
    "plt.title('Highest salary in each city')\n",
    "plt.show()"
   ]
  },
  {
   "cell_type": "markdown",
   "metadata": {},
   "source": [
    "# 5. Graf jaký je rozdíl mezi nabídkou pro běžného a seniora ?"
   ]
  },
  {
   "cell_type": "code",
   "execution_count": 89,
   "metadata": {},
   "outputs": [
    {
     "data": {
      "image/png": "[encoded data removed]",
      "text/plain": [
       "<Figure size 1000x800 with 1 Axes>"
      ]
     },
     "metadata": {},
     "output_type": "display_data"
    }
   ],
   "source": [
    "\n",
    "regular_salary = result.loc[result['Senior'] == 0, 'avg_salary'].values[0]\n",
    "senior_salary = result.loc[result['Senior'] == 1, 'avg_salary'].values[0]\n",
    "salary_difference = senior_salary - regular_salary\n",
    "\n",
    "categories = ['Regular', 'Senior']\n",
    "salaries = [regular_salary, senior_salary]\n",
    "\n",
    "plt.figure(figsize=(10, 8))\n",
    "plt.bar(categories, salaries, color=['lightblue', 'pink'])\n",
    "plt.xlabel('Position Type')\n",
    "plt.ylabel('Average Salary')\n",
    "plt.title('Average Salary Comparison: Regular vs Senior')\n",
    "plt.grid(axis='y')\n",
    "\n",
    "for i, value in enumerate(salaries):\n",
    "    plt.text(i, value + 500, f'{value:,.2f} PLN', ha='center', va='bottom')"
   ]
  }
 ],
 "metadata": {
  "kernelspec": {
   "display_name": "base",
   "language": "python",
   "name": "python3"
  },
  "language_info": {
   "codemirror_mode": {
    "name": "ipython",
    "version": 3
   },
   "file_extension": ".py",
   "mimetype": "text/x-python",
   "name": "python",
   "nbconvert_exporter": "python",
   "pygments_lexer": "ipython3",
   "version": "3.9.6"
  }
 },
 "nbformat": 4,
 "nbformat_minor": 2
}
